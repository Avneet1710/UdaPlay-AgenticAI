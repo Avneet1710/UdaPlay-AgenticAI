{
 "cells": [
  {
   "cell_type": "markdown",
   "id": "6fdd0bcb",
   "metadata": {},
   "source": [
    "# [STARTER] Udaplay Project"
   ]
  },
  {
   "cell_type": "markdown",
   "id": "9325b035",
   "metadata": {},
   "source": [
    "## Part 02 - Agent\n",
    "\n",
    "In this part of the project, you'll use your VectorDB to be part of your Agent as a tool.\n",
    "\n",
    "You're building UdaPlay, an AI Research Agent for the video game industry. The agent will:\n",
    "1. Answer questions using internal knowledge (RAG)\n",
    "2. Search the web when needed\n",
    "3. Maintain conversation state\n",
    "4. Return structured outputs\n",
    "5. Store useful information for future use"
   ]
  },
  {
   "cell_type": "markdown",
   "id": "2b42de90",
   "metadata": {},
   "source": [
    "### Setup"
   ]
  },
  {
   "cell_type": "code",
   "execution_count": null,
   "id": "a963d4ca",
   "metadata": {},
   "outputs": [],
   "source": [
    "# # Only needed for Udacity workspace\n",
    "# import importlib.util\n",
    "# import sys\n",
    "\n",
    "# # Check if 'pysqlite3' is available before importing\n",
    "# if importlib.util.find_spec(\"pysqlite3\") is not None:\n",
    "#     import pysqlite3\n",
    "#     sys.modules['sqlite3'] = sys.modules.pop('pysqlite3')"
   ]
  },
  {
   "cell_type": "code",
   "execution_count": 1,
   "id": "fd10c06e",
   "metadata": {},
   "outputs": [],
   "source": [
    "# TODO: Import the necessary libs\n",
    "import os\n",
    "import json\n",
    "import chromadb\n",
    "from dotenv import load_dotenv\n",
    "from tavily import TavilyClient\n",
    "from pydantic import BaseModel, Field\n",
    "\n",
    "# Custom library imports\n",
    "from lib.agents import Agent\n",
    "from lib.llm import LLM\n",
    "from lib.tooling import tool\n",
    "from chromadb.utils import embedding_functions"
   ]
  },
  {
   "cell_type": "code",
   "execution_count": 2,
   "id": "87e465d4",
   "metadata": {},
   "outputs": [],
   "source": [
    "# TODO: Load environment variables\n",
    "# load_dotenv()\n",
    "\n",
    "OPENAI_API_KEY = \"voc-11905559501688654276185689a2c33e68215.70173222\"\n",
    "TAVILY_API_KEY = \"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\"\n",
    "VOCAREUM_API_BASE = \"https://openai.vocareum.com/v1\""
   ]
  },
  {
   "cell_type": "markdown",
   "id": "27de4729",
   "metadata": {},
   "source": [
    "### Tools"
   ]
  },
  {
   "cell_type": "markdown",
   "id": "46ab2dac",
   "metadata": {},
   "source": [
    "Build at least 3 tools:\n",
    "- retrieve_game: To search the vector DB\n",
    "- evaluate_retrieval: To assess the retrieval performance\n",
    "- game_web_search: If no good, search the web\n"
   ]
  },
  {
   "cell_type": "markdown",
   "id": "ce4f14cd",
   "metadata": {},
   "source": [
    "#### Retrieve Game Tool"
   ]
  },
  {
   "cell_type": "code",
   "execution_count": 3,
   "id": "b25c36dd",
   "metadata": {},
   "outputs": [],
   "source": [
    "@tool\n",
    "def retrieve_game(query: str) -> list:\n",
    "    \"\"\"\n",
    "    Semantic search: Finds most results in the vector DB.\n",
    "    args:\n",
    "    - query: a question about the game industry.\n",
    "    \"\"\"\n",
    "    # This is the stable, correct way to specify the embedding function with a custom base URL\n",
    "    embedding_fn = embedding_functions.OpenAIEmbeddingFunction(\n",
    "        api_key=OPENAI_API_KEY,\n",
    "        api_base=VOCAREUM_API_BASE,\n",
    "        model_name=\"text-embedding-ada-002\" # Ensure this matches the model used in Part 1\n",
    "    )\n",
    "    \n",
    "    chroma_client = chromadb.PersistentClient(path=\"chromadb\")\n",
    "    collection = chroma_client.get_collection(\n",
    "        name=\"udaplay\",\n",
    "        embedding_function=embedding_fn\n",
    "    )\n",
    "    \n",
    "    results = collection.query(\n",
    "        query_texts=[query],\n",
    "        n_results=5\n",
    "    )\n",
    "    \n",
    "    if 'documents' in results and results['documents']:\n",
    "        return results['documents'][0]\n",
    "    return []"
   ]
  },
  {
   "cell_type": "markdown",
   "id": "910dc945",
   "metadata": {},
   "source": [
    "#### Evaluate Retrieval Tool"
   ]
  },
  {
   "cell_type": "code",
   "execution_count": 4,
   "id": "c0f5b9c7",
   "metadata": {},
   "outputs": [],
   "source": [
    "class EvaluationReport(BaseModel):\n",
    "    \"\"\"Data model for the evaluation report.\"\"\"\n",
    "    useful: bool = Field(..., description=\"Whether the documents are useful to answer the question\")\n",
    "    description: str = Field(..., description=\"A detailed explanation of the evaluation result\")\n",
    "\n",
    "@tool\n",
    "def evaluate_retrieval(question: str, retrieved_docs: list) -> EvaluationReport:\n",
    "    \"\"\"\n",
    "    Based on the user's question and on the list of retrieved documents,\n",
    "    it will analyze the usability of the documents to respond to that question.\n",
    "    \"\"\"\n",
    "    llm = LLM(\n",
    "        model=\"gpt-4-turbo\",\n",
    "        temperature=0,\n",
    "        api_key=OPENAI_API_KEY,\n",
    "        base_url=VOCAREUM_API_BASE\n",
    "    )\n",
    "\n",
    "    prompt = f\"\"\"Your task is to evaluate if the documents are enough to respond to the query. \n",
    "    Give a detailed explanation, so it's possible to take an action to accept the information or not.\n",
    "    \n",
    "    Respond with ONLY a JSON object in the following format:\n",
    "    {{\n",
    "      \"useful\": <true or false>,\n",
    "      \"description\": \"<Your detailed explanation here>\"\n",
    "    }}\n",
    "\n",
    "    Original user question: {question}\n",
    "    Retrieved documents: {\"\\n\\n\".join(retrieved_docs)}\n",
    "    \"\"\"\n",
    "    \n",
    "    ai_message = llm.invoke(prompt)\n",
    "    report_dict = json.loads(ai_message.content)\n",
    "    return EvaluationReport(**report_dict)"
   ]
  },
  {
   "cell_type": "markdown",
   "id": "c7935a26",
   "metadata": {},
   "source": [
    "#### Game Web Search Tool"
   ]
  },
  {
   "cell_type": "code",
   "execution_count": 5,
   "id": "2ad698aa",
   "metadata": {},
   "outputs": [],
   "source": [
    "@tool\n",
    "def game_web_search(query: str) -> str:\n",
    "    \"\"\"\n",
    "    Performs a web search using Tavily for questions about the game industry.\n",
    "    args:\n",
    "    - query: a question about the game industry. \n",
    "    \"\"\"\n",
    "    tavily_client = TavilyClient(api_key=TAVILY_API_KEY)\n",
    "    response = tavily_client.search(query=query, search_depth=\"advanced\")\n",
    "    return \"\\n\".join([result['content'] for result in response['results']])"
   ]
  },
  {
   "cell_type": "markdown",
   "id": "df844b3b",
   "metadata": {},
   "source": [
    "### Agent"
   ]
  },
  {
   "cell_type": "code",
   "execution_count": 6,
   "id": "31c56281",
   "metadata": {},
   "outputs": [],
   "source": [
    "instructions = \"\"\"You are UdaPlay, an AI Research Agent for the video game industry.\n",
    "Your goal is to answer user questions about video games, developers, platforms, and release dates.\n",
    "\n",
    "Here is your workflow:\n",
    "1.  **Internal Knowledge First**: Always start by using the `retrieve_game` tool.\n",
    "2.  **Evaluate**: Use `evaluate_retrieval` to assess if the information is sufficient.\n",
    "3.  **Web Search**: If the evaluation determines the information is not useful, use `game_web_search`.\n",
    "4.  **Respond**: Combine the information into a clear and concise answer, citing your sources.\n",
    "\"\"\"\n",
    "\n",
    "udaplay_agent = Agent(\n",
    "    model_name=\"gpt-4o-mini\",\n",
    "    instructions=instructions,\n",
    "    tools=[retrieve_game, evaluate_retrieval, game_web_search],\n",
    "    base_url=VOCAREUM_API_BASE,\n",
    "    api_key=OPENAI_API_KEY)"
   ]
  },
  {
   "cell_type": "code",
   "execution_count": 7,
   "id": "0ec23893",
   "metadata": {},
   "outputs": [
    {
     "name": "stdout",
     "output_type": "stream",
     "text": [
      "--- Query: When was Pokémon Gold and Silver released? ---\n",
      "\n",
      "[StateMachine] Starting: __entry__\n",
      "[StateMachine] Executing step: message_prep\n",
      "[StateMachine] Executing step: llm_processor\n",
      "[StateMachine] Executing step: tool_executor\n",
      "[StateMachine] Executing step: llm_processor\n",
      "[StateMachine] Executing step: tool_executor\n",
      "[StateMachine] Executing step: llm_processor\n",
      "[StateMachine] Terminating: __termination__\n",
      "Final Answer:\n",
      "Pokémon Gold and Silver were released in 1999. If you need more specific details, such as the exact day and month, please let me know!\n",
      "\n",
      "--------------------\n",
      "--- Query: Which one was the first 3D platformer Mario game? ---\n",
      "\n",
      "[StateMachine] Starting: __entry__\n",
      "[StateMachine] Executing step: message_prep\n",
      "[StateMachine] Executing step: llm_processor\n",
      "[StateMachine] Executing step: tool_executor\n",
      "[StateMachine] Executing step: llm_processor\n",
      "[StateMachine] Executing step: tool_executor\n",
      "[StateMachine] Executing step: llm_processor\n",
      "[StateMachine] Terminating: __termination__\n",
      "Final Answer:\n",
      "The first 3D platformer Mario game is **Super Mario 64**, which was released in 1996. It was groundbreaking and set new standards for the genre.\n",
      "\n",
      "--------------------\n",
      "--- Query: Was Mortal Kombat X released for PlayStation 5? ---\n",
      "\n",
      "[StateMachine] Starting: __entry__\n",
      "[StateMachine] Executing step: message_prep\n",
      "[StateMachine] Executing step: llm_processor\n",
      "[StateMachine] Executing step: tool_executor\n",
      "[StateMachine] Executing step: llm_processor\n",
      "[StateMachine] Executing step: tool_executor\n",
      "[StateMachine] Executing step: llm_processor\n",
      "[StateMachine] Executing step: tool_executor\n",
      "[StateMachine] Executing step: llm_processor\n",
      "[StateMachine] Terminating: __termination__\n",
      "Final Answer:\n",
      "Mortal Kombat X was not released specifically for the PlayStation 5, but it is playable on the console through backwards compatibility. The game was originally released for PlayStation 4 on April 14, 2015, and can be played on the PS5, although some features from the PS4 version may be absent on the newer console.\n",
      "\n",
      "--------------------\n"
     ]
    }
   ],
   "source": [
    "queries = [\n",
    "    \"When was Pokémon Gold and Silver released?\",\n",
    "    \"Which one was the first 3D platformer Mario game?\",\n",
    "    \"Was Mortal Kombat X released for PlayStation 5?\"\n",
    "]\n",
    "\n",
    "for query in queries:\n",
    "    print(f\"--- Query: {query} ---\\n\")\n",
    "    try:\n",
    "        run = udaplay_agent.invoke(query)\n",
    "        final_state = run.get_final_state()\n",
    "        if final_state and final_state.get('messages'):\n",
    "            final_answer = final_state['messages'][-1].content\n",
    "            print(f\"Final Answer:\\n{final_answer}\\n\")\n",
    "        else:\n",
    "            print(\"Agent run did not produce a final answer.\")\n",
    "    except Exception as e:\n",
    "        print(f\"An error occurred during agent execution: {e}\")\n",
    "    print(\"-\" * 20)"
   ]
  },
  {
   "cell_type": "markdown",
   "id": "f0a55081",
   "metadata": {},
   "source": [
    "### (Optional) Advanced"
   ]
  },
  {
   "cell_type": "code",
   "execution_count": null,
   "id": "eb83fbb1",
   "metadata": {},
   "outputs": [],
   "source": [
    "# TODO: Update your agent with long-term memory\n",
    "# TODO: Convert the agent to be a state machine, with the tools being pre-defined nodes"
   ]
  }
 ],
 "metadata": {
  "kernelspec": {
   "display_name": "Python 3",
   "language": "python",
   "name": "python3"
  },
  "language_info": {
   "codemirror_mode": {
    "name": "ipython",
    "version": 3
   },
   "file_extension": ".py",
   "mimetype": "text/x-python",
   "name": "python",
   "nbconvert_exporter": "python",
   "pygments_lexer": "ipython3",
   "version": "3.13.5"
  }
 },
 "nbformat": 4,
 "nbformat_minor": 5
}
