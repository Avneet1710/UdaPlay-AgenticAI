{
 "cells": [
  {
   "cell_type": "markdown",
   "id": "9325b035",
   "metadata": {},
   "source": [
    "## Part 02 - Agent\n",
    "\n",
    "In this part of the project, you'll use your VectorDB to be part of your Agent as a tool.\n",
    "\n",
    "You're building UdaPlay, an AI Research Agent for the video game industry. The agent will:\n",
    "1. Answer questions using internal knowledge (RAG)\n",
    "2. Search the web when needed\n",
    "3. Maintain conversation state\n",
    "4. Return structured outputs\n",
    "5. Store useful information for future use"
   ]
  },
  {
   "cell_type": "markdown",
   "id": "2b42de90",
   "metadata": {},
   "source": [
    "### Setup"
   ]
  },
  {
   "cell_type": "code",
   "execution_count": 1,
   "id": "a963d4ca",
   "metadata": {},
   "outputs": [],
   "source": [
    "# Only needed for Udacity workspace\n",
    "import importlib.util\n",
    "import sys\n",
    "\n",
    "if importlib.util.find_spec(\"pysqlite3\") is not None:\n",
    "    import pysqlite3\n",
    "    sys.modules['sqlite3'] = sys.modules.pop('pysqlite3')"
   ]
  },
  {
   "cell_type": "code",
   "execution_count": 2,
   "id": "fd10c06e",
   "metadata": {},
   "outputs": [],
   "source": [
    "# Import necessary libraries\n",
    "import os\n",
    "import json\n",
    "import chromadb\n",
    "from dotenv import load_dotenv\n",
    "from tavily import TavilyClient\n",
    "from pydantic import BaseModel, Field\n",
    "\n",
    "# Custom library imports\n",
    "from lib.agents import Agent\n",
    "from lib.llm import LLM\n",
    "from lib.tooling import tool\n",
    "from chromadb.utils import embedding_functions"
   ]
  },
  {
   "cell_type": "code",
   "execution_count": null,
   "id": "87e465d4",
   "metadata": {},
   "outputs": [],
   "source": [
    "# Load environment variables\n",
    "# load_dotenv()\n",
    "\n",
    "OPENAI_API_KEY = \"voc-11905559501688654276185689a2c33e68215.70173222\"\n",
    "TAVILY_API_KEY = \"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\"\n",
    "VOCAREUM_API_BASE = \"https://openai.vocareum.com/v1\""
   ]
  },
  {
   "cell_type": "markdown",
   "id": "27de4729",
   "metadata": {},
   "source": [
    "### Tools"
   ]
  },
  {
   "cell_type": "markdown",
   "id": "46ab2dac",
   "metadata": {},
   "source": [
    "Build at least 3 tools:\n",
    "- retrieve_game: To search the vector DB\n",
    "- evaluate_retrieval: To assess the retrieval performance\n",
    "- game_web_search: If no good, search the web\n"
   ]
  },
  {
   "cell_type": "markdown",
   "id": "ce4f14cd",
   "metadata": {},
   "source": [
    "#### Retrieve Game Tool"
   ]
  },
  {
   "cell_type": "code",
   "execution_count": null,
   "id": "b25c36dd",
   "metadata": {},
   "outputs": [],
   "source": [
    "#### 1. Retrieve Game Tool\n",
    "@tool # type: ignore\n",
    "def retrieve_game(query: str) -> list:\n",
    "    \"\"\"Semantic search: Finds relevant results in the vector DB.\"\"\"\n",
    "    embedding_fn = embedding_functions.OpenAIEmbeddingFunction( # type: ignore\n",
    "        api_key=OPENAI_API_KEY, # type: ignore\n",
    "        api_base=VOCAREUM_API_BASE, # type: ignore\n",
    "        model_name=\"text-embedding-ada-002\"\n",
    "    )\n",
    "    chroma_client = chromadb.PersistentClient(path=\"chromadb\") # type: ignore\n",
    "    collection = chroma_client.get_collection(name=\"udaplay\", embedding_function=embedding_fn)\n",
    "    results = collection.query(query_texts=[query], n_results=5)\n",
    "    return results['documents'][0] if results['documents'] else []"
   ]
  },
  {
   "cell_type": "markdown",
   "id": "910dc945",
   "metadata": {},
   "source": [
    "#### Evaluate Retrieval Tool"
   ]
  },
  {
   "cell_type": "code",
   "execution_count": null,
   "id": "c0f5b9c7",
   "metadata": {},
   "outputs": [],
   "source": [
    "#### 2. Evaluate Retrieval Tool\n",
    "class EvaluationReport(BaseModel): # type: ignore\n",
    "    \"\"\"Data model for the evaluation report.\"\"\"\n",
    "    useful: bool = Field(..., description=\"Whether the documents are useful to answer the question\") # type: ignore\n",
    "    description: str = Field(..., description=\"A detailed explanation of the evaluation result\") # type: ignore\n",
    "\n",
    "@tool # type: ignore\n",
    "def evaluate_retrieval(question: str, retrieved_docs: list) -> EvaluationReport:\n",
    "    \"\"\"Analyzes the usability of retrieved documents to answer a question.\"\"\"\n",
    "    llm = LLM(model=\"gpt-4-turbo\", temperature=0, api_key=OPENAI_API_KEY, base_url=VOCAREUM_API_BASE) # type: ignore\n",
    "    docs_str = \"\\n\\n\".join(retrieved_docs)\n",
    "    prompt = f\"\"\"Your task is to evaluate if the documents are enough to respond to the query.\n",
    "    Respond with ONLY a JSON object in the following format:\n",
    "    {{\"useful\": <true or false>, \"description\": \"<Your detailed explanation here>\"}}\n",
    "    Original user question: {question}\n",
    "    Retrieved documents: {docs_str}\"\"\"\n",
    "    ai_message = llm.invoke(prompt)\n",
    "    report_dict = json.loads(ai_message.content) # type: ignore\n",
    "    return EvaluationReport(**report_dict)"
   ]
  },
  {
   "cell_type": "markdown",
   "id": "c7935a26",
   "metadata": {},
   "source": [
    "#### Game Web Search Tool"
   ]
  },
  {
   "cell_type": "code",
   "execution_count": null,
   "id": "2ad698aa",
   "metadata": {},
   "outputs": [],
   "source": [
    "@tool\n",
    "def game_web_search(query: str) -> str:\n",
    "    \"\"\"Performs a web search using Tavily.\"\"\"\n",
    "    tavily_client = TavilyClient(api_key=TAVILY_API_KEY) # type: ignore\n",
    "    response = tavily_client.search(query=query, search_depth=\"advanced\")\n",
    "    return \"\\n\".join([result['content'] for result in response['results']])"
   ]
  },
  {
   "cell_type": "markdown",
   "id": "df844b3b",
   "metadata": {},
   "source": [
    "### Agent"
   ]
  },
  {
   "cell_type": "code",
   "execution_count": null,
   "id": "31c56281",
   "metadata": {},
   "outputs": [],
   "source": [
    "### Agent\n",
    "instructions = \"\"\"You are UdaPlay, an AI Research Agent for the video game industry.\n",
    "Your workflow:\n",
    "1. Use `retrieve_game` to search the internal database.\n",
    "2. Use `evaluate_retrieval` to assess if the results are sufficient.\n",
    "3. If not sufficient, use `game_web_search`.\n",
    "4. Respond clearly and **you must cite your source**.\n",
    "   - If from internal knowledge, end with `(Source: Internal Knowledge Base)`.\n",
    "   - If from the web, end with `(Source: Web Search)`.\n",
    "\"\"\"\n",
    "\n",
    "udaplay_agent = Agent( # type: ignore\n",
    "    model_name=\"gpt-4o-mini\",\n",
    "    instructions=instructions,\n",
    "    tools=[retrieve_game, evaluate_retrieval, game_web_search], # type: ignore\n",
    "    base_url=VOCAREUM_API_BASE, # type: ignore\n",
    "    api_key=OPENAI_API_KEY # type: ignore\n",
    ")"
   ]
  },
  {
   "cell_type": "code",
   "execution_count": 8,
   "id": "0ec23893",
   "metadata": {},
   "outputs": [
    {
     "name": "stdout",
     "output_type": "stream",
     "text": [
      "--- Query: When was Pokémon Gold and Silver released? ---\n",
      "[StateMachine] Starting: __entry__\n",
      "[StateMachine] Executing step: message_prep\n",
      "[StateMachine] Executing step: llm_processor\n",
      "[StateMachine] Executing step: tool_executor\n",
      "[StateMachine] Executing step: llm_processor\n",
      "[StateMachine] Executing step: tool_executor\n",
      "[StateMachine] Executing step: llm_processor\n",
      "[StateMachine] Executing step: tool_executor\n",
      "[StateMachine] Executing step: llm_processor\n",
      "[StateMachine] Terminating: __termination__\n",
      "\n",
      "Agent's Reasoning and Tool Usage:\n",
      "- Tool Called: retrieve_game\n",
      "  - Arguments: {\"query\":\"Pokémon Gold and Silver release date\"}\n",
      "- Tool Called: evaluate_retrieval\n",
      "  - Arguments: {\"question\":\"When was Pokémon Gold and Silver released?\",\"retrieved_docs\":\"Name: Pokémon Gold and Silver\\nPlatform: Game Boy Color\\nYear of Release: N/A\\nGenre: Role-playing\\nPublisher: Nintendo\\nDescription: Second-generation Pokémon games introducing new regions, Pokémon, and gameplay mechanics.\"}\n",
      "- Tool Called: game_web_search\n",
      "  - Arguments: {\"query\":\"Pokémon Gold and Silver release date\"}\n",
      "\n",
      "Final Answer:\n",
      "Pokémon Gold and Silver were released in Japan on November 21, 1999. In North America, the games were released on October 15, 2000, and in Europe on April 6, 2001. (Source: Web Search)\n",
      "\n",
      "----------------------------------------\n",
      "--- Query: Which one was the first 3D platformer Mario game? ---\n",
      "[StateMachine] Starting: __entry__\n",
      "[StateMachine] Executing step: message_prep\n",
      "[StateMachine] Executing step: llm_processor\n",
      "[StateMachine] Executing step: tool_executor\n",
      "[StateMachine] Executing step: llm_processor\n",
      "[StateMachine] Executing step: tool_executor\n",
      "[StateMachine] Executing step: llm_processor\n",
      "[StateMachine] Terminating: __termination__\n",
      "\n",
      "Agent's Reasoning and Tool Usage:\n",
      "- Tool Called: retrieve_game\n",
      "  - Arguments: {\"query\":\"first 3D platformer Mario game\"}\n",
      "- Tool Called: evaluate_retrieval\n",
      "  - Arguments: {\"question\":\"first 3D platformer Mario game\",\"retrieved_docs\":\"Name: Super Mario 64\\nPlatform: Nintendo 64\\nYear of Release: N/A\\nGenre: Platformer\\nPublisher: Nintendo\\nDescription: A groundbreaking 3D platformer that set new standards for the genre, featuring Mario's quest to rescue Princess Peach.\"}\n",
      "\n",
      "Final Answer:\n",
      "The first 3D platformer Mario game is **Super Mario 64**, released for the Nintendo 64. This groundbreaking game set new standards for the genre and features Mario's quest to rescue Princess Peach. (Source: Internal Knowledge Base)\n",
      "\n",
      "----------------------------------------\n",
      "--- Query: Was Mortal Kombat X released for PlayStation 5? ---\n",
      "[StateMachine] Starting: __entry__\n",
      "[StateMachine] Executing step: message_prep\n",
      "[StateMachine] Executing step: llm_processor\n",
      "[StateMachine] Executing step: tool_executor\n",
      "[StateMachine] Executing step: llm_processor\n",
      "[StateMachine] Executing step: tool_executor\n",
      "[StateMachine] Executing step: llm_processor\n",
      "[StateMachine] Executing step: tool_executor\n",
      "[StateMachine] Executing step: llm_processor\n",
      "[StateMachine] Terminating: __termination__\n",
      "\n",
      "Agent's Reasoning and Tool Usage:\n",
      "- Tool Called: retrieve_game\n",
      "  - Arguments: {\"query\":\"Mortal Kombat X PlayStation 5 release\"}\n",
      "- Tool Called: evaluate_retrieval\n",
      "  - Arguments: {\"question\":\"Was Mortal Kombat X released for PlayStation 5?\",\"retrieved_docs\":\"Name: Marvel's Spider-Man 2\\nPlatform: PlayStation 5\\nYear of Release: N/A\\nGenre: Action-adventure\\nPublisher: Sony Interactive Entertainment\\nDescription: The sequel to the acclaimed Spider-Man game, featuring both Peter Parker and Miles Morales as playable characters.\\nName: Marvel's Spider-Man\\nPlatform: PlayStation 4\\nYear of Release: N/A\\nGenre: Action-adventure\\nPublisher: Sony Interactive Entertainment\\nDescription: An open-world superhero game that lets players swing through New York City as Spider-Man, battling iconic villains.\\nName: Halo Infinite\\nPlatform: Xbox Series X|S\\nYear of Release: N/A\\nGenre: First-person shooter\\nPublisher: Xbox Game Studios\\nDescription: The latest installment in the Halo franchise, featuring Master Chief's return in a new open-world setting.\\nName: Gran Turismo 5\\nPlatform: PlayStation 3\\nYear of Release: N/A\\nGenre: Racing\\nPublisher: Sony Computer Entertainment\\nDescription: A comprehensive racing simulator featuring a vast selection of vehicles and tracks, with realistic driving physics.\\nName: Mario Kart 8 Deluxe\\nPlatform: Nintendo Switch\\nYear of Release: N/A\\nGenre: Racing\\nPublisher: Nintendo\\nDescription: An enhanced version of Mario Kart 8, featuring new characters, tracks, and improved gameplay mechanics.\"}\n",
      "- Tool Called: game_web_search\n",
      "  - Arguments: {\"query\":\"Mortal Kombat X PlayStation 5 release\"}\n",
      "\n",
      "Final Answer:\n",
      "Mortal Kombat X was not specifically released for the PlayStation 5, but it is playable on the PS5 through backwards compatibility. This means that while it was originally released for the PlayStation 4 on April 14, 2015, you can still play it on the PS5 without any issues, though some features available on the PS4 may be absent. (Source: Web Search)\n",
      "\n",
      "----------------------------------------\n"
     ]
    }
   ],
   "source": [
    "### Demonstrate and Report on Performance\n",
    "queries = [\n",
    "    \"When was Pokémon Gold and Silver released?\",\n",
    "    \"Which one was the first 3D platformer Mario game?\",\n",
    "    \"Was Mortal Kombat X released for PlayStation 5?\"\n",
    "]\n",
    "\n",
    "for query in queries:\n",
    "    print(f\"--- Query: {query} ---\")\n",
    "    try:\n",
    "        run = udaplay_agent.invoke(query)\n",
    "        final_state = run.get_final_state()\n",
    "        \n",
    "        print(\"\\nAgent's Reasoning and Tool Usage:\")\n",
    "        if final_state and final_state.get('messages'):\n",
    "            for message in final_state['messages']:\n",
    "                if message.role == 'assistant' and message.tool_calls:\n",
    "                    for tool_call in message.tool_calls:\n",
    "                        print(f\"- Tool Called: {tool_call.function.name}\")\n",
    "                        print(f\"  - Arguments: {tool_call.function.arguments}\")\n",
    "            \n",
    "            final_answer = final_state['messages'][-1].content\n",
    "            print(f\"\\nFinal Answer:\\n{final_answer}\\n\")\n",
    "        else:\n",
    "            print(\"Agent run did not produce a final answer.\")\n",
    "            \n",
    "    except Exception as e:\n",
    "        print(f\"An error occurred during agent execution: {e}\")\n",
    "    print(\"-\" * 40)"
   ]
  }
 ],
 "metadata": {
  "kernelspec": {
   "display_name": "Python 3",
   "language": "python",
   "name": "python3"
  },
  "language_info": {
   "codemirror_mode": {
    "name": "ipython",
    "version": 3
   },
   "file_extension": ".py",
   "mimetype": "text/x-python",
   "name": "python",
   "nbconvert_exporter": "python",
   "pygments_lexer": "ipython3",
   "version": "3.13.5"
  }
 },
 "nbformat": 4,
 "nbformat_minor": 5
}
